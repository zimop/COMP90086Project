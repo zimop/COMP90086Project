{
 "cells": [
  {
   "cell_type": "code",
   "execution_count": 12,
   "id": "db4f455c",
   "metadata": {},
   "outputs": [
    {
     "name": "stdout",
     "output_type": "stream",
     "text": [
      "1/1 [==============================] - 0s 310ms/step\n",
      "1/1 [==============================] - 0s 46ms/step\n",
      "Euclidean Distance: 763.18634\n"
     ]
    }
   ],
   "source": [
    "import numpy as np\n",
    "from tensorflow.keras.applications import ResNet50\n",
    "from tensorflow.keras.applications.resnet50 import preprocess_input\n",
    "from tensorflow.keras.preprocessing import image\n",
    "from tensorflow.keras.models import Model\n",
    "\n",
    "# Load the pre-trained ResNet50 model without the top classification layer\n",
    "base_model = ResNet50(weights='imagenet', include_top=False)\n",
    "\n",
    "# Create a new model with the desired output layer\n",
    "model = Model(inputs=base_model.input, outputs=base_model.layers[-1].output)\n",
    "\n",
    "# Load and preprocess two images\n",
    "img_path1 = 'dtg.jpg'\n",
    "img_path2 = 'clh.jpg'\n",
    "\n",
    "img1 = image.load_img(img_path1, target_size=(224, 224))\n",
    "img2 = image.load_img(img_path2, target_size=(224, 224))\n",
    "\n",
    "x = image.img_to_array(img1)\n",
    "y = image.img_to_array(img2)\n",
    "\n",
    "x = np.expand_dims(x, axis=0)\n",
    "y = np.expand_dims(y, axis=0)\n",
    "\n",
    "x = preprocess_input(x)\n",
    "y = preprocess_input(y)\n",
    "\n",
    "# Get the feature vectors\n",
    "features1 = model.predict(x)\n",
    "features2 = model.predict(y)\n",
    "\n",
    "# Calculate Euclidean distance\n",
    "euclidean_distance = np.linalg.norm(features1 - features2)\n",
    "\n",
    "# 'euclidean_distance' contains the Euclidean distance between the two feature vectors\n",
    "print(\"Euclidean Distance:\", euclidean_distance)\n"
   ]
  },
  {
   "cell_type": "code",
   "execution_count": null,
   "id": "102d5b77",
   "metadata": {},
   "outputs": [],
   "source": []
  }
 ],
 "metadata": {
  "kernelspec": {
   "display_name": "Python 3 (ipykernel)",
   "language": "python",
   "name": "python3"
  },
  "language_info": {
   "codemirror_mode": {
    "name": "ipython",
    "version": 3
   },
   "file_extension": ".py",
   "mimetype": "text/x-python",
   "name": "python",
   "nbconvert_exporter": "python",
   "pygments_lexer": "ipython3",
   "version": "3.9.12"
  }
 },
 "nbformat": 4,
 "nbformat_minor": 5
}
