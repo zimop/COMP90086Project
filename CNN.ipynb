{
 "cells": [
  {
   "cell_type": "code",
   "execution_count": null,
   "id": "db4f455c",
   "metadata": {},
   "outputs": [],
   "source": [
    "from keras.preprocessing.image import ImageDataGenerator\n",
    "import matplotlib.pyplot as plt\n",
    "import tensorflow as tf\n",
    "from tensorflow import keras\n",
    "from tensorflow.keras import layers\n",
    "import os\n",
    "import numpy as np\n",
    "from numpy import random\n",
    "\n",
    "#setting a seed value\n",
    "seed_value = 0\n",
    "os.environ[\"PYTHONHASHSEED\"] = str(seed_value)\n",
    "random.seed(seed_value)\n",
    "np.random.seed(seed_value)\n",
    "tf.random.set_seed(seed_value)\n",
    "\n",
    "##\n",
    "\n",
    "data_dir = 'COMP90086_2023_TLLdataset'\n",
    "batch_size = 40\n",
    "\n",
    "# Data generator for training\n",
    "# Additional data augmentation may be added here if desired\n",
    "train_datagen = ImageDataGenerator(\n",
    "    width_shift_range=0.1, # horizontal shift\n",
    "    height_shift_range=0.1, # vertical shift\n",
    "    horizontal_flip=True, # horizontal flip\n",
    "    brightness_range=[0.5,1.2], # brightness\n",
    "    rescale=1./255)\n",
    "\n",
    "# Data generator for test\n",
    "# DO NOT USE DATA AUGMENTATION WITH TEST SET\n",
    "test_datagen = ImageDataGenerator(\n",
    "    rescale=1./255)\n",
    "\n",
    "# Generate training data from 'train' directory\n",
    "train_data = train_datagen.flow_from_directory(\n",
    "        data_dir+'/train',\n",
    "        target_size=(32,32),\n",
    "        batch_size=batch_size,\n",
    "        class_mode='categorical')\n",
    "\n",
    "# Generate vaildation data from 'valid' directory\n",
    "val_data = test_datagen.flow_from_directory(\n",
    "        data_dir+'/valid',\n",
    "        target_size=(32,32),\n",
    "        batch_size=batch_size,\n",
    "        class_mode='categorical')\n",
    "\n",
    "# Generate test data from 'test' directory\n",
    "test_data = test_datagen.flow_from_directory(\n",
    "        data_dir+'/test',\n",
    "        target_size=(32,32),\n",
    "        batch_size=batch_size,\n",
    "        class_mode='categorical')"
   ]
  }
 ],
 "metadata": {
  "kernelspec": {
   "display_name": "Python 3 (ipykernel)",
   "language": "python",
   "name": "python3"
  },
  "language_info": {
   "codemirror_mode": {
    "name": "ipython",
    "version": 3
   },
   "file_extension": ".py",
   "mimetype": "text/x-python",
   "name": "python",
   "nbconvert_exporter": "python",
   "pygments_lexer": "ipython3",
   "version": "3.9.17"
  }
 },
 "nbformat": 4,
 "nbformat_minor": 5
}
